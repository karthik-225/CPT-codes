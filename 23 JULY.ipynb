{
 "cells": [
  {
   "cell_type": "code",
   "execution_count": 1,
   "id": "86af8989-f85b-4dc3-bfb4-95f9200c440a",
   "metadata": {},
   "outputs": [
    {
     "name": "stdout",
     "output_type": "stream",
     "text": [
      "Even Mutable List:  [32, 54]\n",
      "Odd Mutable List:  [21, 43, 65]\n"
     ]
    }
   ],
   "source": [
    "class number:\n",
    "    evens=[]\n",
    "    odds=[]\n",
    "    def __init__(self,num):\n",
    "        self.num=num\n",
    "        if num%2==0:\n",
    "            number.evens.append(num)\n",
    "        else:\n",
    "            number.odds.append(num)\n",
    "n1 = number(21)\n",
    "n2 = number(32)\n",
    "n3 = number(43)\n",
    "n4 = number(54)\n",
    "n5 = number(65)\n",
    "print(\"Even Mutable List: \", number.evens)\n",
    "print(\"Odd Mutable List: \", number.odds)"
   ]
  },
  {
   "cell_type": "code",
   "execution_count": 4,
   "id": "d31b72b0-8a8e-4634-a4d0-f450b319ea14",
   "metadata": {},
   "outputs": [
    {
     "name": "stdin",
     "output_type": "stream",
     "text": [
      "Enter the value of n:  5\n"
     ]
    },
    {
     "name": "stdout",
     "output_type": "stream",
     "text": [
      "Given value:  5\n",
      "Given value:  125\n"
     ]
    }
   ],
   "source": [
    "def op(x):\n",
    "    return x**3\n",
    "class abc():\n",
    "    def __init__(self,val):\n",
    "        self.val=val\n",
    "    def display(self):\n",
    "        print(\"Given value: \", self.val)\n",
    "    def modify(self):\n",
    "        self.val=op(self.val)\n",
    "n = int(input(\"Enter the value of n: \"))\n",
    "o = abc(n)\n",
    "o.display()\n",
    "o.modify()\n",
    "o.display()"
   ]
  },
  {
   "cell_type": "code",
   "execution_count": null,
   "id": "4fd28d83-bc9d-4683-8401-6c56bbd5dce5",
   "metadata": {},
   "outputs": [],
   "source": []
  }
 ],
 "metadata": {
  "kernelspec": {
   "display_name": "Python [conda env:base] *",
   "language": "python",
   "name": "conda-base-py"
  },
  "language_info": {
   "codemirror_mode": {
    "name": "ipython",
    "version": 3
   },
   "file_extension": ".py",
   "mimetype": "text/x-python",
   "name": "python",
   "nbconvert_exporter": "python",
   "pygments_lexer": "ipython3",
   "version": "3.12.7"
  }
 },
 "nbformat": 4,
 "nbformat_minor": 5
}
