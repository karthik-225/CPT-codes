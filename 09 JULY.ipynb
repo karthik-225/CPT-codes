{
 "cells": [
  {
   "cell_type": "code",
   "execution_count": 3,
   "id": "f73e1e20-efa0-41e5-9c53-fb9f91672854",
   "metadata": {},
   "outputs": [
    {
     "name": "stdin",
     "output_type": "stream",
     "text": [
      "enter numerator:  7\n",
      "enter denominator:  8\n"
     ]
    },
    {
     "name": "stdout",
     "output_type": "stream",
     "text": [
      "quotient:  0.875\n"
     ]
    }
   ],
   "source": [
    "#program to handle zero division error \n",
    "num = int(input(\"enter numerator: \"))\n",
    "deno = int(input(\"enter denominator: \")) \n",
    "try:\n",
    "    qou = num/deno\n",
    "    print(\"quotient: \",qou)\n",
    "except ZeroDivisonError:\n",
    "    print(\"Denominator cannot be zero:\")"
   ]
  },
  {
   "cell_type": "code",
   "execution_count": 9,
   "id": "178447ae-825a-406c-bc6f-f0c245e7df79",
   "metadata": {},
   "outputs": [
    {
     "name": "stdin",
     "output_type": "stream",
     "text": [
      "enter number:  7y\n"
     ]
    },
    {
     "name": "stdout",
     "output_type": "stream",
     "text": [
      "enter digits only\n",
      "program terminated\n",
      "bye\n"
     ]
    }
   ],
   "source": [
    "#program to handle multiple exceptions \n",
    "try:\n",
    "    num = int(input(\"enter number: \"))\n",
    "    print(num**3)\n",
    "except (KeyboardInterrupt):\n",
    "    print(\"You should have enter data without interupting the compiler\")\n",
    "except(ValueError):\n",
    "    print(\"enter digits only\")\n",
    "print(\"program terminated\")\n",
    "print(\"bye\")\n"
   ]
  },
  {
   "cell_type": "code",
   "execution_count": 18,
   "id": "3223dda6-41a1-4914-8f4b-3e63b62ac4cd",
   "metadata": {},
   "outputs": [
    {
     "name": "stdout",
     "output_type": "stream",
     "text": [
      "Error occured due to input 🤣\n"
     ]
    }
   ],
   "source": [
    "try:\n",
    "    file = open('ab.txt')\n",
    "    str = file.readline()\n",
    "    print(str)\n",
    "except IOError:\n",
    "    print(\"Error occured due to input\",\"\\U0001F923\")\n",
    "except ValueError:\n",
    "    print(\"Couldn't convert to integer\")\n",
    "except:\n",
    "    print(\"Unexcepted Error\",\"\\U0001F612\")"
   ]
  },
  {
   "cell_type": "code",
   "execution_count": 20,
   "id": "0752126d-0280-40ab-af72-995d440d3c9f",
   "metadata": {},
   "outputs": [
    {
     "name": "stdout",
     "output_type": "stream",
     "text": [
      "😀\n",
      "😘\n",
      "🤗\n",
      "😪\n",
      "😷\n",
      "😀\n",
      "🤥\n",
      "😆\n",
      "😒\n",
      "🤐\n",
      "😇\n"
     ]
    }
   ],
   "source": [
    "print(\"\\U0001F600\")\n",
    "print(\"\\U0001F618\")\n",
    "print(\"\\U0001F917\")\n",
    "print(\"\\U0001F62A\")\n",
    "print(\"\\U0001F637\")\n",
    "print(\"\\U0001f600\")\n",
    "print(\"\\U0001F925\")\n",
    "print(\"\\U0001F606\")\n",
    "print(\"\\U0001F612\")\n",
    "print(\"\\U0001F910\")\n",
    "print(\"\\U0001F607\")"
   ]
  },
  {
   "cell_type": "code",
   "execution_count": null,
   "id": "f3023181-e078-4579-8ef4-c829698f0ca1",
   "metadata": {},
   "outputs": [],
   "source": []
  }
 ],
 "metadata": {
  "kernelspec": {
   "display_name": "Python [conda env:base] *",
   "language": "python",
   "name": "conda-base-py"
  },
  "language_info": {
   "codemirror_mode": {
    "name": "ipython",
    "version": 3
   },
   "file_extension": ".py",
   "mimetype": "text/x-python",
   "name": "python",
   "nbconvert_exporter": "python",
   "pygments_lexer": "ipython3",
   "version": "3.12.7"
  }
 },
 "nbformat": 4,
 "nbformat_minor": 5
}
