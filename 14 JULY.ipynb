{
 "cells": [
  {
   "cell_type": "code",
   "execution_count": 7,
   "id": "68c2f39c-12d4-4662-8784-1b60c780b4b5",
   "metadata": {},
   "outputs": [
    {
     "name": "stdin",
     "output_type": "stream",
     "text": [
      "Enter number 1: 4\n",
      "Enter number 2: 7\n",
      "Enter number 3: 8\n",
      "Enter number 4: 4\n",
      "Enter number 5: 66\n"
     ]
    },
    {
     "name": "stdout",
     "output_type": "stream",
     "text": [
      "[4, 7, 8, 4, 66]\n"
     ]
    },
    {
     "name": "stdin",
     "output_type": "stream",
     "text": [
      "Enter 5 nums with space 6 7 3 8 4 7 \n"
     ]
    },
    {
     "name": "stdout",
     "output_type": "stream",
     "text": [
      "[6, 7, 3, 8, 4]\n"
     ]
    }
   ],
   "source": [
    "#step-by-step input of LC\n",
    "num = [int(input(f\"Enter number {i+1}:\"))\n",
    "      for i in range(5)]\n",
    "print(num)\n",
    "\n",
    "n = [int(x) for x in input(\"Enter 5 nums with space\")\n",
    "     .split()[:5]]\n",
    "print(n)"
   ]
  },
  {
   "cell_type": "code",
   "execution_count": 10,
   "id": "0b76b23c-34ee-45f3-bd80-4a5cb08320a0",
   "metadata": {},
   "outputs": [
    {
     "name": "stdin",
     "output_type": "stream",
     "text": [
      "Enter the table size:  7\n"
     ]
    },
    {
     "name": "stdout",
     "output_type": "stream",
     "text": [
      "tables of math \n",
      "[1, 2, 3, 4, 5, 6, 7]\n",
      "[2, 4, 6, 8, 10, 12, 14]\n",
      "[3, 6, 9, 12, 15, 18, 21]\n",
      "[4, 8, 12, 16, 20, 24, 28]\n",
      "[5, 10, 15, 20, 25, 30, 35]\n",
      "[6, 12, 18, 24, 30, 36, 42]\n",
      "[7, 14, 21, 28, 35, 42, 49]\n"
     ]
    }
   ],
   "source": [
    "#nested LC.... loop within loop signal: LC\n",
    "n = int(input(\"Enter the table size: \"))\n",
    "table = [[i*j for j in range(1,n+1)] for i in range(1, n+1)]\n",
    "print('tables of math ')\n",
    "for row in table:\n",
    "    print(row)"
   ]
  },
  {
   "cell_type": "code",
   "execution_count": 43,
   "id": "5c92e9d5-b0bb-4bfd-b842-a947a7542a6a",
   "metadata": {},
   "outputs": [
    {
     "name": "stdin",
     "output_type": "stream",
     "text": [
      "Enter nums with space 1 2 3 4 6 7 8 5 74 \n"
     ]
    },
    {
     "ename": "IndexError",
     "evalue": "list index out of range",
     "output_type": "error",
     "traceback": [
      "\u001b[1;31m---------------------------------------------------------------------------\u001b[0m",
      "\u001b[1;31mIndexError\u001b[0m                                Traceback (most recent call last)",
      "Cell \u001b[1;32mIn[43], line 5\u001b[0m\n\u001b[0;32m      1\u001b[0m \u001b[38;5;124;03m'''create a nXm matrix with manual input numbers ny\u001b[39;00m\n\u001b[0;32m      2\u001b[0m \u001b[38;5;124;03minput seperated spacees\u001b[39;00m\n\u001b[0;32m      3\u001b[0m \u001b[38;5;124;03mprint all the rows in LC only'''\u001b[39;00m\n\u001b[0;32m      4\u001b[0m nums \u001b[38;5;241m=\u001b[39m [\u001b[38;5;28mint\u001b[39m(x) \u001b[38;5;28;01mfor\u001b[39;00m x \u001b[38;5;129;01min\u001b[39;00m \u001b[38;5;28minput\u001b[39m(\u001b[38;5;124m\"\u001b[39m\u001b[38;5;124mEnter nums with space\u001b[39m\u001b[38;5;124m\"\u001b[39m)\u001b[38;5;241m.\u001b[39msplit()[:\u001b[38;5;241m16\u001b[39m]]\n\u001b[1;32m----> 5\u001b[0m matrix \u001b[38;5;241m=\u001b[39m [[nums[i\u001b[38;5;241m*\u001b[39m\u001b[38;5;241m4\u001b[39m\u001b[38;5;241m+\u001b[39mj] \u001b[38;5;28;01mfor\u001b[39;00m j \u001b[38;5;129;01min\u001b[39;00m \u001b[38;5;28mrange\u001b[39m(\u001b[38;5;241m4\u001b[39m\u001b[38;5;241m+\u001b[39m\u001b[38;5;241m1\u001b[39m)] \u001b[38;5;28;01mfor\u001b[39;00m i \u001b[38;5;129;01min\u001b[39;00m \u001b[38;5;28mrange\u001b[39m(\u001b[38;5;241m4\u001b[39m\u001b[38;5;241m+\u001b[39m\u001b[38;5;241m1\u001b[39m)]\n\u001b[0;32m      6\u001b[0m \u001b[38;5;28;01mfor\u001b[39;00m rows \u001b[38;5;129;01min\u001b[39;00m matrix:\n\u001b[0;32m      7\u001b[0m     \u001b[38;5;28mprint\u001b[39m(nums)\n",
      "\u001b[1;31mIndexError\u001b[0m: list index out of range"
     ]
    }
   ],
   "source": [
    "'''create a nXm matrix with manual input numbers ny\n",
    "input seperated spacees\n",
    "print all the rows in LC only'''\n",
    "nums = [int(x) for x in input(\"Enter nums with space\").split()[:16]]\n",
    "matrix = [[nums[i*4+j] for j in range(4+1)] for i in range(4+1)]\n",
    "for rows in matrix:\n",
    "    print(nums)"
   ]
  },
  {
   "cell_type": "code",
   "execution_count": 19,
   "id": "d937814c-e019-4236-a6fb-89d03f3f81e1",
   "metadata": {},
   "outputs": [
    {
     "name": "stdin",
     "output_type": "stream",
     "text": [
      "Enter 9 numbers with SPACE 8 9 7 6 5 4 3 2 1\n"
     ]
    },
    {
     "name": "stdout",
     "output_type": "stream",
     "text": [
      "[8, 9, 7]\n",
      "[6, 5, 4]\n",
      "[3, 2, 1]\n"
     ]
    }
   ],
   "source": [
    "nums = input('Enter 9 numbers with SPACE').split()\n",
    "if len(nums) != 9:\n",
    "    print(\"enter exactly 9 numbers: \")\n",
    "else:\n",
    "    numbers = [int(x) for x in nums]\n",
    "    matrix= [[numbers[i*3+j] for j in range(3)]\n",
    "             for i in range(3)]\n",
    "for r in matrix:\n",
    "    print(r)\n",
    "               \n",
    "    "
   ]
  },
  {
   "cell_type": "code",
   "execution_count": 22,
   "id": "02fd7184-e136-44a8-80ee-d5550463b0d4",
   "metadata": {},
   "outputs": [
    {
     "name": "stdin",
     "output_type": "stream",
     "text": [
      "Enter 9 numbers with SPACE 2 3 4 5 3 5 6 3 7 \n"
     ]
    },
    {
     "name": "stdout",
     "output_type": "stream",
     "text": [
      "[2, 3, 4]\n",
      "[5, 3, 5]\n",
      "[6, 3, 7]\n",
      "[2, 5, 6]\n",
      "[3, 3, 3]\n",
      "[4, 5, 7]\n"
     ]
    }
   ],
   "source": [
    "# transpose \n",
    "nums = input('Enter 9 numbers with SPACE').split()\n",
    "if len(nums) != 9:\n",
    "    print(\"enter exactly 9 numbers: \")\n",
    "else:\n",
    "    numbers = [int(x) for x in nums]\n",
    "    matrix= [[numbers[i*3+j] for j in range(3)]\n",
    "             for i in range(3)]\n",
    "    transpose = [[matrix[i][j] for i in range(3)]\n",
    "                 for j in range(3)]\n",
    "for r in matrix:\n",
    "    print(r)\n",
    "for r in transpose:\n",
    "    print(r)"
   ]
  },
  {
   "cell_type": "code",
   "execution_count": 34,
   "id": "b29a028c-7bcb-4ce7-a0d5-065d355adebe",
   "metadata": {},
   "outputs": [
    {
     "name": "stdin",
     "output_type": "stream",
     "text": [
      "enter size:  2\n",
      "enter numbers:  2 3 4 5 \n"
     ]
    },
    {
     "name": "stdout",
     "output_type": "stream",
     "text": [
      "[2, 3]\n",
      "[4, 5]\n",
      "[2, 3, 4, 5]\n"
     ]
    }
   ],
   "source": [
    "n= int(input(\"enter size: \"))\n",
    "num=[int(x) for x in input(\"enter numbers: \").split()[:n*n]]\n",
    "matrix = [[num[i*n+j] for j in range (n)]\n",
    "          for i in range(n)]\n",
    "for k in matrix :\n",
    "    print(k)\n",
    "flat=[k for r in matrix for k in r]\n",
    "print(flat)"
   ]
  },
  {
   "cell_type": "code",
   "execution_count": 41,
   "id": "370aaf26-f423-4141-8b78-c8554c7e6d7d",
   "metadata": {
    "scrolled": true
   },
   "outputs": [
    {
     "name": "stdin",
     "output_type": "stream",
     "text": [
      "enter size for nXn:  3\n",
      "enter numbers:  1 2 4 56 8 3 6 9 0\n"
     ]
    },
    {
     "name": "stdout",
     "output_type": "stream",
     "text": [
      "[0, 2, 4]\n",
      "[56, 8, 0]\n",
      "[6, 0, 0]\n"
     ]
    }
   ],
   "source": [
    "'''code to consider a LC:: to calculate square of 16 values as nXn matrix and print\n",
    "the list of squares in each row: '''\n",
    "n= int(input(\"enter size for nXn: \"))\n",
    "num=[int(x) for x in input(\"enter numbers: \").split()[:n*n]]\n",
    "matrix = [[num[i*n+j] if  num[i*n+j]%2==0\n",
    "           else 0 for j in range (n)]\n",
    "          for i in range(n)]\n",
    "for k in matrix :\n",
    "    print(k)"
   ]
  },
  {
   "cell_type": "code",
   "execution_count": 40,
   "id": "105f27a0-3d78-4fd3-add0-b52639f06de8",
   "metadata": {},
   "outputs": [
    {
     "name": "stdin",
     "output_type": "stream",
     "text": [
      "enter size for nXn:  3\n",
      "enter numbers:  1 4 6 15 18 1 7 8 9\n"
     ]
    },
    {
     "name": "stdout",
     "output_type": "stream",
     "text": [
      "[1, 0, 0]\n",
      "[15, 0, 1]\n",
      "[7, 0, 9]\n"
     ]
    }
   ],
   "source": [
    "n= int(input(\"enter size for nXn: \"))\n",
    "num=[int(x) for x in input(\"enter numbers: \").split()[:n*n]]\n",
    "matrix = [[num[i*n+j] if  num[i*n+j]%2 else 0 for j in range (n)]\n",
    "          for i in range(n)]\n",
    "for k in matrix :\n",
    "    print(k)"
   ]
  },
  {
   "cell_type": "code",
   "execution_count": null,
   "id": "69ca5f81-f939-40aa-9d44-8711a04babf7",
   "metadata": {},
   "outputs": [],
   "source": []
  }
 ],
 "metadata": {
  "kernelspec": {
   "display_name": "Python [conda env:base] *",
   "language": "python",
   "name": "conda-base-py"
  },
  "language_info": {
   "codemirror_mode": {
    "name": "ipython",
    "version": 3
   },
   "file_extension": ".py",
   "mimetype": "text/x-python",
   "name": "python",
   "nbconvert_exporter": "python",
   "pygments_lexer": "ipython3",
   "version": "3.12.7"
  }
 },
 "nbformat": 4,
 "nbformat_minor": 5
}
