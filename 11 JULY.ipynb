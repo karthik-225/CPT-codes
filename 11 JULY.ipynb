{
 "cells": [
  {
   "cell_type": "code",
   "execution_count": 23,
   "id": "c610388e-e3a0-49f5-9e02-9412940196f7",
   "metadata": {},
   "outputs": [
    {
     "name": "stdout",
     "output_type": "stream",
     "text": [
      "Raising Exception 🐛\n",
      "Exception caught 🤐\n",
      "performing clean up finally..... 🖳\n"
     ]
    }
   ],
   "source": [
    "try:\n",
    "    print(\"Raising Exception\",\"\\U0001F41B\")\n",
    "    raise ValueError\n",
    "except:\n",
    "    print(\"Exception caught\",\"\\U0001F910\")\n",
    "finally:\n",
    "    print(\"performing clean up finally.....\",\"\\U0001F5b3\")"
   ]
  },
  {
   "cell_type": "code",
   "execution_count": 38,
   "id": "362a360a-d909-4016-8931-3970e5aa830e",
   "metadata": {},
   "outputs": [],
   "source": [
    "try:\n",
    "    f = open(\"abc.txt\")\n",
    "except: \n",
    "    print(\"File dosn`t exist.....\") \n",
    "    raise fileError"
   ]
  },
  {
   "cell_type": "raw",
   "id": "0a8db9d9-f177-4bf4-b277-19b6d834384a",
   "metadata": {},
   "source": [
    "#assert statement\n",
    "c =  int(input(\"Enter the temp in c\"))\n",
    "f = (c*9/5)+32\n",
    "assert(f<=32), \"It's Freezing\"\n",
    "print(\"Temperature in Fahrenheit=\",f)"
   ]
  },
  {
   "cell_type": "code",
   "execution_count": 34,
   "id": "5ca0fa64-45de-41a3-abc0-7851229711e0",
   "metadata": {
    "scrolled": true
   },
   "outputs": [
    {
     "ename": "SyntaxError",
     "evalue": "expected 'except' or 'finally' block (2978595168.py, line 5)",
     "output_type": "error",
     "traceback": [
      "\u001b[1;36m  Cell \u001b[1;32mIn[34], line 5\u001b[1;36m\u001b[0m\n\u001b[1;33m    if n==1:\u001b[0m\n\u001b[1;37m    ^\u001b[0m\n\u001b[1;31mSyntaxError\u001b[0m\u001b[1;31m:\u001b[0m expected 'except' or 'finally' block\n"
     ]
    }
   ],
   "source": [
    " n = 0\n",
    "while True:\n",
    "    try:\n",
    "         n = n+1\n",
    "    if n==1:\n",
    "            raise StopIteration\n",
    "    except StopIteration:\n",
    "        break\n",
    "    else:\n",
    "        print(n,end  =\" \")"
   ]
  },
  {
   "cell_type": "code",
   "execution_count": 41,
   "id": "cadb3b6c-2712-468f-b395-c20ee069ffc3",
   "metadata": {},
   "outputs": [
    {
     "name": "stdin",
     "output_type": "stream",
     "text": [
      "Enter size:  5\n",
      "Enter element 1: 5\n",
      "Enter element 2: 5\n",
      "Enter element 3: 65\n",
      "Enter element 4: 65\n",
      "Enter element 5: 63\n",
      "Enter Index ti access element:  3\n"
     ]
    },
    {
     "name": "stdout",
     "output_type": "stream",
     "text": [
      "Element at index 3 is 65\n"
     ]
    }
   ],
   "source": [
    "try:\n",
    "    size = int(input(\"Enter size: \"))\n",
    "    user_list = []\n",
    "    for i in range (size):\n",
    "        val = int(input(f\"Enter element {i+1}:\"))\n",
    "        user_list.append(val)\n",
    "    index= int(input(\"Enter Index ti access element: \"))\n",
    "    print(\"Element at index\", index, \"is\", user_list[index])\n",
    "except ValueError:\n",
    "    print(\"Error : please enter only integers\")\n",
    "except IndexError:\n",
    "    print(\"Error : Index......Out of range.....\")"
   ]
  },
  {
   "cell_type": "code",
   "execution_count": null,
   "id": "a5770a45-3378-446d-80d8-99a5f0a0d597",
   "metadata": {},
   "outputs": [],
   "source": []
  },
  {
   "cell_type": "markdown",
   "id": "c800c552-0050-444b-bf31-45985e2f4457",
   "metadata": {},
   "source": [
    "# "
   ]
  }
 ],
 "metadata": {
  "kernelspec": {
   "display_name": "Python [conda env:base] *",
   "language": "python",
   "name": "conda-base-py"
  },
  "language_info": {
   "codemirror_mode": {
    "name": "ipython",
    "version": 3
   },
   "file_extension": ".py",
   "mimetype": "text/x-python",
   "name": "python",
   "nbconvert_exporter": "python",
   "pygments_lexer": "ipython3",
   "version": "3.12.7"
  }
 },
 "nbformat": 4,
 "nbformat_minor": 5
}
