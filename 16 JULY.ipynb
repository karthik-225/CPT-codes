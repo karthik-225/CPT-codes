{
 "cells": [
  {
   "cell_type": "code",
   "execution_count": 14,
   "id": "7e604074-31aa-4e4a-9c69-637f025513b7",
   "metadata": {},
   "outputs": [
    {
     "name": "stdin",
     "output_type": "stream",
     "text": [
      "enter rows 4\n"
     ]
    },
    {
     "name": "stdout",
     "output_type": "stream",
     "text": [
      "1\n",
      "12\n",
      "123\n",
      "1234\n"
     ]
    }
   ],
   "source": [
    "rows = int(input(\"enter rows\"))\n",
    "pattern = [''.join([str(num) for num in range(1,1+i)]) for i in range(1, rows+1)]\n",
    "for line in  pattern:\n",
    "    print(line)"
   ]
  },
  {
   "cell_type": "code",
   "execution_count": 15,
   "id": "998d052e-84e8-4680-a347-105a774b661f",
   "metadata": {},
   "outputs": [
    {
     "name": "stdin",
     "output_type": "stream",
     "text": [
      "enter rows 5\n"
     ]
    },
    {
     "name": "stdout",
     "output_type": "stream",
     "text": [
      "a\n",
      "ab\n",
      "abc\n",
      "abcd\n",
      "abcde\n"
     ]
    }
   ],
   "source": [
    "rows = int(input(\"enter rows\"))\n",
    "pattern = [''.join([chr(97+j) for j in range(i)]) for i in range(1, rows+1)]\n",
    "for line in  pattern:\n",
    "    print(line)"
   ]
  },
  {
   "cell_type": "code",
   "execution_count": 18,
   "id": "1b7b4c1e-1cbe-422b-aad0-31a40ad4495b",
   "metadata": {},
   "outputs": [
    {
     "name": "stdin",
     "output_type": "stream",
     "text": [
      "enter rows 5\n"
     ]
    },
    {
     "name": "stdout",
     "output_type": "stream",
     "text": [
      "    $\n",
      "   $$$\n",
      "  $$$$$\n",
      " $$$$$$$\n",
      "$$$$$$$$$\n"
     ]
    }
   ],
   "source": [
    "rows = int(input(\"enter rows\"))\n",
    "pattern = [(' ' * (rows-i) + '$' * (2*i-1)) for i in range(1, rows+1)]\n",
    "for line in  pattern:\n",
    "    print(line)"
   ]
  },
  {
   "cell_type": "code",
   "execution_count": 3,
   "id": "62f25fa6-fade-4405-bd3c-430332005b2e",
   "metadata": {},
   "outputs": [
    {
     "name": "stdin",
     "output_type": "stream",
     "text": [
      "enter rows 7\n"
     ]
    },
    {
     "name": "stdout",
     "output_type": "stream",
     "text": [
      "1234567\n",
      "123456\n",
      "12345\n",
      "1234\n",
      "123\n",
      "12\n",
      "1\n"
     ]
    }
   ],
   "source": [
    "rows = int(input(\"enter rows\"))\n",
    "pattern = [''.join([str(num) for num in range(1, rows-i+1)]) for i in range(rows)]\n",
    "for line in  pattern:\n",
    "    print(line)"
   ]
  },
  {
   "cell_type": "code",
   "execution_count": 2,
   "id": "9b8c2354-3e22-4acc-87e4-7dcd283ef822",
   "metadata": {},
   "outputs": [
    {
     "name": "stdin",
     "output_type": "stream",
     "text": [
      "enter rows:  6\n"
     ]
    },
    {
     "name": "stdout",
     "output_type": "stream",
     "text": [
      "* * * * * * \n",
      "*         * \n",
      "*         * \n",
      "*         * \n",
      "*         * \n",
      "* * * * * * \n"
     ]
    }
   ],
   "source": [
    "n = int(input(\"enter rows: \"))\n",
    "pattern= [['* ' if i==0 or i==n-1 or j==0 or j==n-1 else '  ' for i in range (n)] for j in range(n)]\n",
    "for i in pattern:\n",
    "    print(''.join(i))"
   ]
  },
  {
   "cell_type": "code",
   "execution_count": 5,
   "id": "209618c6-3af6-4f00-8040-7ab78c00ceb6",
   "metadata": {},
   "outputs": [
    {
     "name": "stdin",
     "output_type": "stream",
     "text": [
      "enter rows (odd numbers only):  7\n"
     ]
    },
    {
     "name": "stdout",
     "output_type": "stream",
     "text": [
      "* * * * * * * \n",
      "* *       * * \n",
      "*   *   *   * \n",
      "*     *     * \n",
      "*   *   *   * \n",
      "* *       * * \n",
      "* * * * * * * \n"
     ]
    }
   ],
   "source": [
    "n = int(input(\"enter rows (odd numbers only): \"))\n",
    "pattern= [['* ' if i==0 or i==n-1 or j==0 or j==n-1 or i==j or  i+j==n-1 else '  ' for i in range (n)] for j in range(n)]\n",
    "for i in pattern:\n",
    "    print(''.join(i))"
   ]
  },
  {
   "cell_type": "code",
   "execution_count": 12,
   "id": "a8b97bf1-cf2b-4301-971b-0b0de04293db",
   "metadata": {},
   "outputs": [
    {
     "name": "stdin",
     "output_type": "stream",
     "text": [
      "enter rows (odd numbers only):  7\n"
     ]
    },
    {
     "name": "stdout",
     "output_type": "stream",
     "text": [
      "*           * \n",
      "* *       * * \n",
      "*   *   *   * \n",
      "*     *     * \n",
      "*   *   *   * \n",
      "* *       * * \n",
      "*           * \n"
     ]
    }
   ],
   "source": [
    "n = int(input(\"enter rows (odd numbers only): \"))\n",
    "pattern= [['* ' if i==0 or i==n-1 or i==j or  i+j==n-1 else '  ' for i in range (n)] for j in range(n)]\n",
    "for i in pattern:\n",
    "    print(''.join(i))"
   ]
  },
  {
   "cell_type": "code",
   "execution_count": 23,
   "id": "06567427-e205-4e28-9449-05be06939cca",
   "metadata": {},
   "outputs": [
    {
     "name": "stdin",
     "output_type": "stream",
     "text": [
      "enteer rows:  4\n"
     ]
    },
    {
     "name": "stdout",
     "output_type": "stream",
     "text": [
      "    *\n",
      "   * *\n",
      "  *   *\n",
      " *     *\n",
      "  *   *  \n",
      "   * *  \n",
      "    *  \n"
     ]
    }
   ],
   "source": [
    "n = int(input('enteer rows: '))\n",
    "upper = [' '*(n-i)+''.join('*' if j==0 or j==2*i else ' ' for j in range(2*i+1)) for i in range(n)]\n",
    "lower = [' '*(i+2)+''.join('*' if j==0 or j==2*(n-i-2) else ' ' for j in range(2*(n-i)-1)) for i in range(n-1)]\n",
    "for line in upper+lower:\n",
    "    print(line)"
   ]
  },
  {
   "cell_type": "code",
   "execution_count": null,
   "id": "1f2fae9d-326d-4044-ae9c-f217cec1b01c",
   "metadata": {},
   "outputs": [],
   "source": [
    "import vijay"
   ]
  }
 ],
 "metadata": {
  "kernelspec": {
   "display_name": "Python [conda env:base] *",
   "language": "python",
   "name": "conda-base-py"
  },
  "language_info": {
   "codemirror_mode": {
    "name": "ipython",
    "version": 3
   },
   "file_extension": ".py",
   "mimetype": "text/x-python",
   "name": "python",
   "nbconvert_exporter": "python",
   "pygments_lexer": "ipython3",
   "version": "3.12.7"
  }
 },
 "nbformat": 4,
 "nbformat_minor": 5
}
