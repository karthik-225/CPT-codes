{
 "cells": [
  {
   "cell_type": "code",
   "execution_count": 2,
   "id": "a159fbcc-9639-48a1-b487-35dc6d765544",
   "metadata": {},
   "outputs": [
    {
     "name": "stdout",
     "output_type": "stream",
     "text": [
      "9\n"
     ]
    }
   ],
   "source": [
    "class abc:\n",
    "    value = 9\n",
    "obj1 = abc()\n",
    "print(obj1.value)"
   ]
  },
  {
   "cell_type": "code",
   "execution_count": 3,
   "id": "4675d56c-1b49-41cc-bd64-b22df5ce9eb4",
   "metadata": {},
   "outputs": [
    {
     "name": "stdout",
     "output_type": "stream",
     "text": [
      "9\n",
      "this is a class method\n"
     ]
    }
   ],
   "source": [
    "class abc:\n",
    "    value = 9\n",
    "    def display(self):\n",
    "        print(\"this is a class method\")\n",
    "obj1 = abc()\n",
    "print(obj1.value)\n",
    "obj1.display()"
   ]
  },
  {
   "cell_type": "code",
   "execution_count": 6,
   "id": "4188e93f-4245-4aaa-b5c7-f0b90f87ff60",
   "metadata": {},
   "outputs": [
    {
     "name": "stdin",
     "output_type": "stream",
     "text": [
      "enter a value 7\n"
     ]
    },
    {
     "name": "stdout",
     "output_type": "stream",
     "text": [
      "this is a class method\n",
      "accessed value in class is  7\n"
     ]
    }
   ],
   "source": [
    "class helo:\n",
    "    def __init__(self, value):\n",
    "        print(\"this is a class method\")\n",
    "        self.value=value\n",
    "        print(\"accessed value in class is \", value)\n",
    "num = int(input(\"enter a value\"))\n",
    "obj=  helo(num)"
   ]
  },
  {
   "cell_type": "code",
   "execution_count": 10,
   "id": "4dc097ca-ea88-4793-8f57-9ba41328cafa",
   "metadata": {},
   "outputs": [
    {
     "name": "stdout",
     "output_type": "stream",
     "text": [
      "Hello, I am Karthik and I am 22 years-old\n"
     ]
    }
   ],
   "source": [
    "class student:\n",
    "    def __init__(self, name, age):\n",
    "        self.name=name\n",
    "        self.age=age\n",
    "    def hi(self):\n",
    "        print(f\"Hello, I am {self.name} and I am {self.age} years-old\")\n",
    "s = student('Karthik', 22)\n",
    "s.hi()"
   ]
  },
  {
   "cell_type": "code",
   "execution_count": 16,
   "id": "a077314b-9144-4194-8d3a-473f31d1e43a",
   "metadata": {},
   "outputs": [
    {
     "name": "stdin",
     "output_type": "stream",
     "text": [
      "Enter the radius:  89\n"
     ]
    },
    {
     "name": "stdout",
     "output_type": "stream",
     "text": [
      "Area of circle:  24884.55540908475\n"
     ]
    }
   ],
   "source": [
    "'''code to calculate the area of a circle by importing pi from math and create a class for circle\n",
    "with a connstructor, where radius is considered as an arg\n",
    "calculate and return the value to the object'''\n",
    "\n",
    "import math\n",
    "class circle:\n",
    "    def __init__(self,radius):\n",
    "        self.radius=radius\n",
    "    def area(self):\n",
    "        return math.pi * self.radius**2\n",
    "\n",
    "r = int(input(\"Enter the radius: \"))\n",
    "c = circle(r)\n",
    "print(\"Area of circle: \",c.area())"
   ]
  },
  {
   "cell_type": "code",
   "execution_count": 23,
   "id": "7890e33d-0c71-473a-8b1c-c9bc96ca8d19",
   "metadata": {},
   "outputs": [
    {
     "name": "stdin",
     "output_type": "stream",
     "text": [
      "Enter the number:  5\n"
     ]
    },
    {
     "name": "stdout",
     "output_type": "stream",
     "text": [
      "Factorial 120\n"
     ]
    }
   ],
   "source": [
    "'''code to find and print the factorial of a given number using a class called Math and register\n",
    "the given number in a constructor to calculate. return the value by passing to the main function'''\n",
    "\n",
    "class Math:\n",
    "    def __init__(self,num):\n",
    "        self.num = num\n",
    "    def fact(self):\n",
    "        f=1\n",
    "        for i in range(1, self.num+1):\n",
    "            f*=i\n",
    "        return f\n",
    "num = int(input(\"Enter the number: \"))\n",
    "m = Math(num)\n",
    "print(\"Factorial: \", m.fact())"
   ]
  },
  {
   "cell_type": "code",
   "execution_count": 25,
   "id": "fbe18925-ff6b-4880-959e-a4d4b403a950",
   "metadata": {},
   "outputs": [
    {
     "name": "stdin",
     "output_type": "stream",
     "text": [
      "Enter the number 6\n"
     ]
    },
    {
     "name": "stdout",
     "output_type": "stream",
     "text": [
      "Square-Root: 2.45\n"
     ]
    }
   ],
   "source": [
    "'''code to import the sqrt fnction and calculate the value by creating a class SquareRoot\n",
    "and define a function for finding the root. Return the value to the main program'''\n",
    "\n",
    "import math\n",
    "class SquareRoot:\n",
    "    def __init__(self,num):\n",
    "        self.num=num\n",
    "    def find_root(self):\n",
    "        return math.sqrt(self.num)\n",
    "num = float(input(\"Enter the number\"))\n",
    "s = SquareRoot(num)\n",
    "print(f\"Square-Root: {s.find_root():.2f}\")"
   ]
  },
  {
   "cell_type": "code",
   "execution_count": 29,
   "id": "d2cd2f4d-8db6-458f-b842-0db5aa371031",
   "metadata": {},
   "outputs": [
    {
     "name": "stdout",
     "output_type": "stream",
     "text": [
      "Even list:  [32, 38]\n",
      "Odd list:  [21, 33, 53]\n"
     ]
    }
   ],
   "source": [
    "'''code to modify a mutable list using a class number for accumlating even/odd values into a list\n",
    "return the even list and odd list with last modified element'''\n",
    "\n",
    "class number:\n",
    "    even= []\n",
    "    odd= []\n",
    "    def __init__ (self,n):\n",
    "        self.n = n\n",
    "        if n%2 == 0:\n",
    "            number.even.append(n)\n",
    "        else:\n",
    "            number.odd.append(n)\n",
    "\n",
    "n1 = number(21)\n",
    "n2 = number(33)\n",
    "n3 = number(32)\n",
    "n4 = number(38)\n",
    "n5 = number(53)\n",
    "print(\"Even list: \", number.even)\n",
    "print(\"Odd list: \", number.odd)\n"
   ]
  },
  {
   "cell_type": "code",
   "execution_count": null,
   "id": "fcaf3e2d-a353-4766-b47a-016446068726",
   "metadata": {},
   "outputs": [],
   "source": []
  }
 ],
 "metadata": {
  "kernelspec": {
   "display_name": "Python [conda env:base] *",
   "language": "python",
   "name": "conda-base-py"
  },
  "language_info": {
   "codemirror_mode": {
    "name": "ipython",
    "version": 3
   },
   "file_extension": ".py",
   "mimetype": "text/x-python",
   "name": "python",
   "nbconvert_exporter": "python",
   "pygments_lexer": "ipython3",
   "version": "3.12.7"
  }
 },
 "nbformat": 4,
 "nbformat_minor": 5
}
