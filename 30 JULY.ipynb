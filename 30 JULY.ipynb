{
 "cells": [
  {
   "cell_type": "code",
   "execution_count": 1,
   "id": "be61a394-732e-47ad-be9a-f34d2555c2bf",
   "metadata": {},
   "outputs": [
    {
     "name": "stdout",
     "output_type": "stream",
     "text": [
      "Engine started\n",
      "The car is being drove\n"
     ]
    }
   ],
   "source": [
    "class vehicle:\n",
    "    def start_engine(self):\n",
    "        print(\"Engine started\")\n",
    "class car(vehicle):\n",
    "    def drive(self):\n",
    "        print(\"The car is being drove\")\n",
    "c = car()\n",
    "c.start_engine()\n",
    "c.drive()"
   ]
  },
  {
   "cell_type": "code",
   "execution_count": 7,
   "id": "67de3273-6d20-4055-b65d-a491988ab8c8",
   "metadata": {},
   "outputs": [
    {
     "name": "stdout",
     "output_type": "stream",
     "text": [
      "I am a student\n",
      "The student is Studying\n"
     ]
    }
   ],
   "source": [
    "class person:\n",
    "    def info(self):\n",
    "        print(\"I am a student\")\n",
    "class student(person):\n",
    "    def study(self):\n",
    "        print(\"The student is Studying\")\n",
    "s = student()\n",
    "s.info()\n",
    "s.study()"
   ]
  },
  {
   "cell_type": "code",
   "execution_count": 27,
   "id": "9408c933-c564-46a5-b85c-04b0b25f17d8",
   "metadata": {},
   "outputs": [
    {
     "name": "stdin",
     "output_type": "stream",
     "text": [
      "Enter the firs value:  2\n",
      "Enter the second value:  6\n"
     ]
    },
    {
     "name": "stdout",
     "output_type": "stream",
     "text": [
      "The result is 8\n"
     ]
    }
   ],
   "source": [
    "'''code to perform addition using superclass and user input and sub class as operation\n",
    "print the submitted value at subclass'''\n",
    "\n",
    "class operate:\n",
    "    def userdata(self):\n",
    "        self.n1 = int(input(\"Enter the firs value: \"))\n",
    "        self.n2 = int(input(\"Enter the second value: \"))\n",
    "class summate(operate):\n",
    "    def add(self):\n",
    "        result = self.n1+self.n2 \n",
    "        print(f\"The result is {result}\")\n",
    "c = summate()\n",
    "c.userdata()\n",
    "c.add()"
   ]
  },
  {
   "cell_type": "code",
   "execution_count": 41,
   "id": "7408cd9c-6db7-4d22-98fa-701582eed89e",
   "metadata": {},
   "outputs": [
    {
     "name": "stdin",
     "output_type": "stream",
     "text": [
      "Enter a number:  9\n",
      "Enter a number:  0\n"
     ]
    },
    {
     "name": "stdout",
     "output_type": "stream",
     "text": [
      "Denominator can't be Zero\n"
     ]
    }
   ],
   "source": [
    "''' code to alculate normal divisom by considering input\n",
    "in superclass and evaltion in sub class, where 0 divisom must br handled'''\n",
    "\n",
    "class div():\n",
    "    def data(self):\n",
    "        self.a= int(input(\"Enter a number: \"))\n",
    "        self.b= int(input(\"Enter a number: \"))\n",
    "class analyse(div):\n",
    "    def division(self):\n",
    "        try:\n",
    "            result = self.a/self.b\n",
    "            print(\"The result is: \", result)\n",
    "        except ZeroDivisionError:\n",
    "            print(\"Denominator can't be Zero\")\n",
    "d = analyse()\n",
    "d.data()\n",
    "d.division()\n",
    "            "
   ]
  },
  {
   "cell_type": "code",
   "execution_count": 63,
   "id": "e923b28f-f396-41b2-a15f-80cced8030ac",
   "metadata": {},
   "outputs": [
    {
     "name": "stdin",
     "output_type": "stream",
     "text": [
      "Enter name:  karthik\n",
      "Enter ID:  22KN1A1210\n",
      "Enter Department:  I.T\n"
     ]
    },
    {
     "name": "stdout",
     "output_type": "stream",
     "text": [
      "Name:karthik\n",
      "Employee ID:22KN1A1210\n",
      "Department:I.T\n"
     ]
    }
   ],
   "source": [
    "class itern:\n",
    "    def __init__(self,name):\n",
    "        self.name = name\n",
    "    def display_itern(self):\n",
    "        print(f\"Name:{self.name}\")\n",
    "class employee(itern):\n",
    "    def __init__(self,name,emp_id):\n",
    "        super().__init__(name)\n",
    "        self.emp_id = emp_id\n",
    "    def display_employee(self):\n",
    "        print(f\"Employee ID:{self.emp_id}\")\n",
    "\n",
    "class manager(employee):\n",
    "    def __init__(self,name,emp_id,dept):\n",
    "        super().__init__(name,emp_id)\n",
    "        self.dept=dept\n",
    "    def display_manager(self):\n",
    "        print(f\"Department:{self.dept}\")\n",
    "\n",
    "\n",
    "name = input(\"Enter name: \")\n",
    "emp_id = input(\"Enter ID: \")\n",
    "dept = input(\"Enter Department: \")\n",
    "d = manager(name,emp_id,dept)\n",
    "d.display_itern()\n",
    "d.display_employee()\n",
    "d.display_manager()\n"
   ]
  },
  {
   "cell_type": "code",
   "execution_count": null,
   "id": "b13d6513-f368-4a41-9881-df1123a5adef",
   "metadata": {},
   "outputs": [],
   "source": []
  }
 ],
 "metadata": {
  "kernelspec": {
   "display_name": "Python 3 (ipykernel)",
   "language": "python",
   "name": "python3"
  },
  "language_info": {
   "codemirror_mode": {
    "name": "ipython",
    "version": 3
   },
   "file_extension": ".py",
   "mimetype": "text/x-python",
   "name": "python",
   "nbconvert_exporter": "python",
   "pygments_lexer": "ipython3",
   "version": "3.12.7"
  }
 },
 "nbformat": 4,
 "nbformat_minor": 5
}
