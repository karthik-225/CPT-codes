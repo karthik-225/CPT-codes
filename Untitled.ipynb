{
 "cells": [
  {
   "cell_type": "markdown",
   "id": "7a0d316c-2765-4c51-b26f-3df70118c8c4",
   "metadata": {},
   "source": [
    "print(\"set-up your transaction\")\n",
    "gpin = int(input(\"set your pin without spaces: \"))\n",
    "lengpin = len(str(gpin))\n",
    "print(\"wait saving your pin..\")\n",
    "print(\"continue..\")\n",
    "print(\"insert card\")           \n",
    "pin = int(input(\"enter your pin: \"))\n",
    "if pin == gpin:\n",
    "    print(\"pin is correct\")\n",
    "    print(\"select the options\")\n",
    "    print(\"1. Deposit\")\n",
    "    print(\"2. Withdraw\")\n",
    "    print(\"3. Balance\")\n",
    "    print(\"Note: Deposit money first\")\n",
    "    option = int(input(\"enter option\"))\n",
    "    if option == 1:\n",
    "        deposit = int(input(\"enter amount to be deposit\"))\n",
    "    elif option == 2:\n",
    "        withdraw = int(input(\"enter amount to withdraw\"))\n",
    "    elif option == 3:\n",
    "        balance = deposit - withdraw\n",
    "        print(balance)\n",
    "    else:\n",
    "        print(\"enter valid options\")\n",
    "else:\n",
    "    print(\"incorrect pin! Try again\")\n"
   ]
  },
  {
   "cell_type": "code",
   "execution_count": null,
   "id": "47e0bb7a-e53e-43f1-82c5-4e276b2818a2",
   "metadata": {},
   "outputs": [],
   "source": [
    "    print(\"enter only 4 digts\")\n",
    "    if pin == gpin:\n",
    "     print(\"/n 1. Deposit /n 2.Withdraw /n 3.Check balance\")\n",
    "     option = int(input(\"select option\"))\n",
    "     if option == 1:\n",
    "        deposit = int(input(\"enter amount to be deposit\"))\n",
    "     elif option == 2:\n",
    "        withdraw = int(input(\"enter amount to withdraw\"))\n",
    "     elif option == 3:\n",
    "        balance = deposit - withdraw\n",
    "        print(\"balance\")\n",
    "    else:\n",
    "        print(\"enter valid options\")"
   ]
  },
  {
   "cell_type": "code",
   "execution_count": 1,
   "id": "fd7a75f1-0784-4b67-860d-1bd75ee8bdcd",
   "metadata": {},
   "outputs": [
    {
     "name": "stdout",
     "output_type": "stream",
     "text": [
      "/n 1. Deposit /n 2.Withdraw /n 3.Check balance\n"
     ]
    }
   ],
   "source": [
    "print(\"/n 1. Deposit /n 2.Withdraw /n 3.Check balance\")"
   ]
  },
  {
   "cell_type": "code",
   "execution_count": 2,
   "id": "489e1d5d-a61b-44f8-9204-29cda088614d",
   "metadata": {},
   "outputs": [
    {
     "ename": "SyntaxError",
     "evalue": "invalid syntax (2780243.py, line 16)",
     "output_type": "error",
     "traceback": [
      "\u001b[1;36m  Cell \u001b[1;32mIn[2], line 16\u001b[1;36m\u001b[0m\n\u001b[1;33m    case 1 option == 1:\u001b[0m\n\u001b[1;37m         ^\u001b[0m\n\u001b[1;31mSyntaxError\u001b[0m\u001b[1;31m:\u001b[0m invalid syntax\n"
     ]
    }
   ],
   "source": [
    "print(\"set-up your transaction\")\n",
    "gpin = int(input(\"set your pin without spaces: \"))\n",
    "lengpin = len(str(gpin))\n",
    "print(\"wait saving your pin..\")\n",
    "print(\"continue..\")\n",
    "print(\"insert card\")           \n",
    "pin = int(input(\"enter your pin: \"))\n",
    "if pin == gpin:\n",
    "    print(\"pin is correct\")\n",
    "    print(\"select the options\")\n",
    "    print(\"1. Deposit\")\n",
    "    print(\"2. Withdraw\")\n",
    "    print(\"3. Balance\")\n",
    "    print(\"Note: Deposit money first\")\n",
    "    option = int(input(\"enter option\"))\n",
    "    case 1 option == 1:\n",
    "        deposit = int(input(\"enter amount to be deposit\"))\n",
    "        print(\"Deposited amount is\",deposit, \"rupees\")\n",
    "        option = int(input(\"enter option\"))\n",
    "    case 2 option == 2:\n",
    "        withdraw = int(input(\"enter amount to withdraw\"))\n",
    "        print(withdraw,\"Rupees have been withdrewn\")\n",
    "        option = int(input(\"enter option\"))\n",
    "    case 3 option == 3:\n",
    "        balance = deposit - withdraw\n",
    "        print(balance)\n",
    "    case 4:\n",
    "        print(\"enter valid options\")\n",
    "else:\n",
    "    print(\"incorrect pin! Try again\")"
   ]
  },
  {
   "cell_type": "code",
   "execution_count": null,
   "id": "80fce319-6c2b-416b-8e7b-cf9e7bb9245e",
   "metadata": {},
   "outputs": [],
   "source": []
  }
 ],
 "metadata": {
  "kernelspec": {
   "display_name": "Python [conda env:base] *",
   "language": "python",
   "name": "conda-base-py"
  },
  "language_info": {
   "codemirror_mode": {
    "name": "ipython",
    "version": 3
   },
   "file_extension": ".py",
   "mimetype": "text/x-python",
   "name": "python",
   "nbconvert_exporter": "python",
   "pygments_lexer": "ipython3",
   "version": "3.12.7"
  }
 },
 "nbformat": 4,
 "nbformat_minor": 5
}
