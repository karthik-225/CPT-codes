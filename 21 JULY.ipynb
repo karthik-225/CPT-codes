{
 "cells": [
  {
   "cell_type": "code",
   "execution_count": 22,
   "id": "6a56c0b6-f8dd-4988-a4f2-58a1f05aa8f3",
   "metadata": {},
   "outputs": [
    {
     "name": "stdout",
     "output_type": "stream",
     "text": [
      "Class variable 0\n",
      "Object variable: 11\n",
      "Class variable: 19\n",
      "Object variable: 12\n",
      "Class variable: 38\n",
      "Object variable: 13\n",
      "Class variable: 57\n",
      "Obj var with 11 is deleted \n"
     ]
    }
   ],
   "source": [
    "'''del method / class variable with const access'''\n",
    "\n",
    "class monkey():\n",
    "    class_var = 0\n",
    "    print(\"Class variable\", class_var)\n",
    "    def __init__(self, var):\n",
    "        monkey.class_var += 19\n",
    "        self.var=var\n",
    "        print(\"Object variable:\",var)\n",
    "        print(\"Class variable:\", monkey.class_var)\n",
    "        \n",
    "    def __del__(self):\n",
    "        monkey.class_var-=1\n",
    "        print(\"Obj var with %d is deleted \" %self.var)\n",
    "obj1 = monkey(11)\n",
    "obj2 = monkey(12)\n",
    "obj3 = monkey(13)\n",
    "del obj1\n"
   ]
  },
  {
   "cell_type": "code",
   "execution_count": 25,
   "id": "84946938-a03e-468b-819e-32078d606523",
   "metadata": {},
   "outputs": [
    {
     "name": "stdin",
     "output_type": "stream",
     "text": [
      "Enter the value of a: 7\n",
      "Enter the value of b: 8\n"
     ]
    },
    {
     "name": "stdout",
     "output_type": "stream",
     "text": [
      "calc object created.....\n",
      "Created calc object was deleted\n",
      "Addition: 15\n",
      "Subtract: -1\n",
      "Created calc object was deleted\n"
     ]
    }
   ],
   "source": [
    "class calc:\n",
    "    def __init__(self,a,b):\n",
    "        self.a=a\n",
    "        self.b=b\n",
    "        print(\"calc object created.....\")\n",
    "    def add(self):\n",
    "        return self.a+self.b\n",
    "    def sub(self):\n",
    "        return self.a-self.b\n",
    "    def __del__(self):\n",
    "        print(\"Created calc object was deleted\")\n",
    "a = int(input(\"Enter the value of a:\"))\n",
    "b = int(input(\"Enter the value of b:\"))\n",
    "c = calc(a,b)\n",
    "print(\"Addition:\", c.add())\n",
    "print(\"Subtract:\", c.sub())\n",
    "del c"
   ]
  },
  {
   "cell_type": "code",
   "execution_count": 37,
   "id": "7e1c4369-24c4-4662-905c-b6c912c372fe",
   "metadata": {},
   "outputs": [
    {
     "name": "stdout",
     "output_type": "stream",
     "text": [
      "6\n",
      "[1, 2, 3, 100, 5, 6, 7, 8, 9, 10]\n"
     ]
    }
   ],
   "source": [
    "'''code to calc area and circumference of a circle by using a class\n",
    "rectangle, create a constructer and seperate functions for area circ delete the \n",
    "constructer, import math pi value'''\n",
    "\n",
    "class Numbers:\n",
    "    def __init__(self,myList):\n",
    "        self.myList=myList\n",
    "    def __getitem__(self, index):\n",
    "        return self.myList[index]\n",
    "    def __setitem__(self, index, val):\n",
    "        self.myList[index]= val\n",
    "NumList=Numbers([1,2,3,4,5,6,7,8,9,10])\n",
    "print(NumList[5])\n",
    "NumList[3] = 100\n",
    "print(NumList.myList)"
   ]
  },
  {
   "cell_type": "code",
   "execution_count": 41,
   "id": "08015fde-4d3a-48f9-8f93-eefe938d1c3c",
   "metadata": {},
   "outputs": [
    {
     "name": "stdout",
     "output_type": "stream",
     "text": [
      "Sum of row 0: 3\n",
      "Sum of row 2: 11\n",
      "New sum of row 1: 30\n"
     ]
    }
   ],
   "source": [
    "#math evaluation on get item setitem\n",
    "'''code to add the sum of rows in a 2-d list'''\n",
    "\n",
    "class RowSum:\n",
    "    def __init__(self, matrix):\n",
    "        self.matrix = matrix\n",
    "    def __getitem__(self, row):\n",
    "        return sum(self.matrix[row])\n",
    "    def __setitem__(self, row, new_row):\n",
    "        self.matrix[row]= new_row\n",
    "m = RowSum([[1,2], [3,4], [5,6]])\n",
    "#sum of 0 index row values = 3\n",
    "#sum of 1 index row values = 11\n",
    "\n",
    "print(\"Sum of row 0:\",m[0])\n",
    "print(\"Sum of row 2:\",m[2])\n",
    "m[1] = [10,20]\n",
    "\n",
    "print(\"New sum of row 1:\", m[1])"
   ]
  },
  {
   "cell_type": "code",
   "execution_count": null,
   "id": "27fcec9f-8309-4730-98a9-58df14a5dd92",
   "metadata": {},
   "outputs": [],
   "source": []
  }
 ],
 "metadata": {
  "kernelspec": {
   "display_name": "Python [conda env:base] *",
   "language": "python",
   "name": "conda-base-py"
  },
  "language_info": {
   "codemirror_mode": {
    "name": "ipython",
    "version": 3
   },
   "file_extension": ".py",
   "mimetype": "text/x-python",
   "name": "python",
   "nbconvert_exporter": "python",
   "pygments_lexer": "ipython3",
   "version": "3.12.7"
  }
 },
 "nbformat": 4,
 "nbformat_minor": 5
}
